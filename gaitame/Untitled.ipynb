{
 "cells": [
  {
   "cell_type": "code",
   "execution_count": 1,
   "metadata": {},
   "outputs": [],
   "source": [
    "import requests\n",
    "import pandas as pd\n",
    "import datetime\n",
    "import time\n",
    "import os"
   ]
  },
  {
   "cell_type": "code",
   "execution_count": 3,
   "metadata": {},
   "outputs": [],
   "source": [
    "url = \"https://navi.gaitame.com/v2/info/tools/buysell\"\n",
    "DATA_DIR = \"buysell\""
   ]
  },
  {
   "cell_type": "code",
   "execution_count": 30,
   "metadata": {},
   "outputs": [],
   "source": [
    "nations = [\n",
    "    \"eurjpy\",\"usdjpy\",\"eurusd\",\"gdpjpy\",\"cadjpy\",\n",
    "    \"chfjpy\",\"gdpusd\",\"usdchf\",\"sekjpy\",\"nokjpy\",\n",
    "    \"tryjpy\",\"zarjpy\",\"mxnjpy\",\"audjpy\",\"nzdjpy\",\n",
    "    \"audusd\",\"nzdusd\",\"euraud\",\"cnhjpy\",\"hkdjpy\"]\n"
   ]
  },
  {
   "cell_type": "code",
   "execution_count": 25,
   "metadata": {},
   "outputs": [
    {
     "name": "stdout",
     "output_type": "stream",
     "text": [
      "{'status': 200, 'data': [{'pair': 'USDJPY', 'ratios': [{'interval': '14', 'entry': {'buy': 32, 'sell': 16}, 'close': {'buy': 21, 'sell': 30}}, {'interval': '13', 'entry': {'buy': 32, 'sell': 20}, 'close': {'buy': 20, 'sell': 27}}, {'interval': '12', 'entry': {'buy': 30, 'sell': 16}, 'close': {'buy': 16, 'sell': 37}}, {'interval': '11', 'entry': {'buy': 27, 'sell': 25}, 'close': {'buy': 22, 'sell': 26}}, {'interval': '10', 'entry': {'buy': 30, 'sell': 20}, 'close': {'buy': 20, 'sell': 29}}, {'interval': '9', 'entry': {'buy': 26, 'sell': 24}, 'close': {'buy': 22, 'sell': 27}}, {'interval': '8', 'entry': {'buy': 37, 'sell': 16}, 'close': {'buy': 24, 'sell': 22}}, {'interval': '7', 'entry': {'buy': 27, 'sell': 26}, 'close': {'buy': 18, 'sell': 29}}, {'interval': '6', 'entry': {'buy': 37, 'sell': 6}, 'close': {'buy': 18, 'sell': 38}}, {'interval': '5', 'entry': {'buy': 23, 'sell': 23}, 'close': {'buy': 26, 'sell': 26}}, {'interval': '4', 'entry': {'buy': 33, 'sell': 22}, 'close': {'buy': 17, 'sell': 27}}, {'interval': '3', 'entry': {'buy': 29, 'sell': 18}, 'close': {'buy': 17, 'sell': 35}}, {'interval': '2', 'entry': {'buy': 32, 'sell': 14}, 'close': {'buy': 20, 'sell': 33}}, {'interval': '1', 'entry': {'buy': 20, 'sell': 29}, 'close': {'buy': 29, 'sell': 21}}, {'interval': '0', 'entry': {'buy': 30, 'sell': 18}, 'close': {'buy': 17, 'sell': 33}}, {'interval': '23', 'entry': {'buy': 28, 'sell': 23}, 'close': {'buy': 22, 'sell': 26}}, {'interval': '22', 'entry': {'buy': 27, 'sell': 20}, 'close': {'buy': 19, 'sell': 32}}, {'interval': '21', 'entry': {'buy': 27, 'sell': 20}, 'close': {'buy': 19, 'sell': 33}}, {'interval': '20', 'entry': {'buy': 37, 'sell': 14}, 'close': {'buy': 21, 'sell': 28}}, {'interval': '19', 'entry': {'buy': 31, 'sell': 20}, 'close': {'buy': 14, 'sell': 34}}, {'interval': '18', 'entry': {'buy': 32, 'sell': 22}, 'close': {'buy': 21, 'sell': 25}}, {'interval': '17', 'entry': {'buy': 30, 'sell': 19}, 'close': {'buy': 21, 'sell': 29}}, {'interval': '16', 'entry': {'buy': 30, 'sell': 20}, 'close': {'buy': 13, 'sell': 36}}, {'interval': '15', 'entry': {'buy': 35, 'sell': 14}, 'close': {'buy': 16, 'sell': 34}}]}]}\n"
     ]
    }
   ],
   "source": [
    "for nation in nations:\n",
    "    payloads = {\n",
    "        \"order\": \"entryclose\",\n",
    "    \"interval\": \"hour\",\n",
    "    \"pairs\": \"usdjpy\"\n",
    "    }\n",
    "    response = requests.get(url,params=payloads)\n",
    "    data_noarmalized = []\n",
    "    for data in response.json()[\"data\"][0][\"ratios\"]:\n",
    "        data_noarmalized.append(\n",
    "            {\n",
    "                \"close_buy\":data[\"close\"][\"buy\"],\n",
    "                \"close_sell\":data[\"close\"][\"sell\"],\n",
    "                \"entry_buy\":data[\"entry\"][\"buy\"],\n",
    "                \"entry_sell\":data[\"entry\"][\"sell\"],\n",
    "                \"interval\":data[\"interval\"]})\n",
    "    df = pd.DataFrame(data_noarmalized)\n",
    "    "
   ]
  },
  {
   "cell_type": "code",
   "execution_count": 26,
   "metadata": {},
   "outputs": [],
   "source": [
    "\n",
    "    "
   ]
  },
  {
   "cell_type": "code",
   "execution_count": 27,
   "metadata": {},
   "outputs": [],
   "source": []
  },
  {
   "cell_type": "code",
   "execution_count": 29,
   "metadata": {},
   "outputs": [],
   "source": [
    "df.to_csv(\"sample_csv.csv\")"
   ]
  },
  {
   "cell_type": "code",
   "execution_count": 36,
   "metadata": {},
   "outputs": [],
   "source": [
    "import requests\n",
    "import pandas as pd\n",
    "import datetime\n",
    "import time\n",
    "import os\n",
    "\n",
    "TOKEN_INITIAL = 1550098778572\n",
    "\n",
    "def scraping_chart_data(token,token_increment = 2):\n",
    "    nations = [\n",
    "    \"eurjpy\",\"usdjpy\",\"eurusd\",\"gdpjpy\",\"cadjpy\",\n",
    "    \"chfjpy\",\"gdpusd\",\"usdchf\",\"sekjpy\",\"nokjpy\",\n",
    "    \"tryjpy\",\"zarjpy\",\"mxnjpy\",\"audjpy\",\"nzdjpy\",\n",
    "    \"audusd\",\"nzdusd\",\"euraud\",\"cnhjpy\",\"hkdjpy\"]\n",
    "    \n",
    "    DATA_DIR = \"chart_data_gaitame\"\n",
    "    url = \"https://navi.gaitame.com/v2/info/prices/chart\"\n",
    "    df_base = False\n",
    "    now = datetime.datetime.now().strftime(\"%Y%m%d_%H%M\")\n",
    "    for i,nation in enumerate(nations):\n",
    "        token += token_increment\n",
    "        payloads = {\n",
    "            \"pair\": \"usdjpy\",\n",
    "        \"type\": \"1\",\n",
    "        \"count\": \"100\",\n",
    "        \"bid\": \"true\",\n",
    "        \"ask\": \"true\",\n",
    "        \"_\": token\n",
    "        }\n",
    "        response = requests.get(\n",
    "            url,\n",
    "            params = payloads\n",
    "        )\n",
    "        if response.status_code != 200:\n",
    "            print(response)\n",
    "        if i==0:\n",
    "            df_base = pd.DataFrame(response.json()[\"data\"])\n",
    "        else:\n",
    "            df = pd.DataFrame(response.json()[\"data\"])\n",
    "            df_base = pd.concat([df_base,df],axis=1)\n",
    "        time.sleep(3)\n",
    "    df_base.to_csv(\"{}.csv\".format(now))"
   ]
  },
  {
   "cell_type": "code",
   "execution_count": 37,
   "metadata": {},
   "outputs": [],
   "source": [
    "scraping_chart_data(TOKEN_INITIAL)"
   ]
  },
  {
   "cell_type": "code",
   "execution_count": null,
   "metadata": {},
   "outputs": [],
   "source": []
  }
 ],
 "metadata": {
  "kernelspec": {
   "display_name": "Python 3",
   "language": "python",
   "name": "python3"
  },
  "language_info": {
   "codemirror_mode": {
    "name": "ipython",
    "version": 3
   },
   "file_extension": ".py",
   "mimetype": "text/x-python",
   "name": "python",
   "nbconvert_exporter": "python",
   "pygments_lexer": "ipython3",
   "version": "3.6.7"
  }
 },
 "nbformat": 4,
 "nbformat_minor": 2
}
