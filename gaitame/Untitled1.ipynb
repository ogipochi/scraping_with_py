{
 "cells": [
  {
   "cell_type": "code",
   "execution_count": 19,
   "metadata": {},
   "outputs": [],
   "source": [
    "import requests\n",
    "import pandas as pd\n",
    "import datetime\n",
    "import time\n",
    "import os\n",
    "\n",
    "def scraping_buysell():\n",
    "    \"\"\"\n",
    "    売買比率を確認\n",
    "    \"\"\"\n",
    "\n",
    "    url = \"https://navi.gaitame.com/v2/info/tools/buysell\"\n",
    "    DATA_DIR = \"buysell_gaitame\"\n",
    "    now = datetime.datetime.now().strftime(\"%Y%m%d_%H%M\")\n",
    "    nations = [\n",
    "    \"eurjpy\",\"usdjpy\",\"eurusd\",\"gdpjpy\",\"cadjpy\",\n",
    "    \"chfjpy\",\"gdpusd\",\"usdchf\",\"sekjpy\",\"nokjpy\",\n",
    "    \"tryjpy\",\"zarjpy\",\"mxnjpy\",\"audjpy\",\"nzdjpy\",\n",
    "    \"audusd\",\"nzdusd\",\"euraud\",\"cnhjpy\",\"hkdjpy\"]\n",
    "    for nation in nations:\n",
    "        payloads = {\n",
    "            \"order\": \"entryclose\",\n",
    "            \"interval\": \"hour\",\n",
    "            \"pairs\": \"usdjpy\"\n",
    "        }\n",
    "        response = requests.get(\n",
    "            url,\n",
    "            params = payloads\n",
    "        )\n",
    "        if response.status_code != 200:\n",
    "            print(response)\n",
    "        if not os.path.isdir(os.path.join(DATA_DIR,nation)):\n",
    "            os.makedirs(os.path.join(DATA_DIR,nation))\n",
    "        response_data = response.json()[\"data\"][0][\"ratios\"]\n",
    "        response_data_normalized = []\n",
    "        for d in response_data:\n",
    "            response_data_normalized.append({\n",
    "                \"entry_buy\":d[\"entry\"][\"buy\"],\n",
    "                \"entry_sell\":d[\"entry\"][\"sell\"],\n",
    "                \"close_buy\":d[\"close\"][\"buy\"],\n",
    "                \"close_sell\":d[\"close\"][\"sell\"],\n",
    "            })\n",
    "        df = pd.DataFrame(response_data_normalized)\n",
    "        df.to_csv(os.path.join(DATA_DIR,nation,\"{}.csv\".format(now)))\n",
    "        time.sleep(3)\n",
    "        "
   ]
  },
  {
   "cell_type": "code",
   "execution_count": 20,
   "metadata": {},
   "outputs": [
    {
     "ename": "KeyboardInterrupt",
     "evalue": "",
     "output_type": "error",
     "traceback": [
      "\u001b[0;31m---------------------------------------------------------------------------\u001b[0m",
      "\u001b[0;31mKeyboardInterrupt\u001b[0m                         Traceback (most recent call last)",
      "\u001b[0;32m<ipython-input-20-a1bc814d0a91>\u001b[0m in \u001b[0;36m<module>\u001b[0;34m\u001b[0m\n\u001b[0;32m----> 1\u001b[0;31m \u001b[0mscraping_buysell\u001b[0m\u001b[0;34m(\u001b[0m\u001b[0;34m)\u001b[0m\u001b[0;34m\u001b[0m\u001b[0;34m\u001b[0m\u001b[0m\n\u001b[0m",
      "\u001b[0;32m<ipython-input-19-38a928abce04>\u001b[0m in \u001b[0;36mscraping_buysell\u001b[0;34m()\u001b[0m\n\u001b[1;32m     32\u001b[0m         \u001b[0;32mif\u001b[0m \u001b[0;32mnot\u001b[0m \u001b[0mos\u001b[0m\u001b[0;34m.\u001b[0m\u001b[0mpath\u001b[0m\u001b[0;34m.\u001b[0m\u001b[0misdir\u001b[0m\u001b[0;34m(\u001b[0m\u001b[0mos\u001b[0m\u001b[0;34m.\u001b[0m\u001b[0mpath\u001b[0m\u001b[0;34m.\u001b[0m\u001b[0mjoin\u001b[0m\u001b[0;34m(\u001b[0m\u001b[0mDATA_DIR\u001b[0m\u001b[0;34m,\u001b[0m\u001b[0mnation\u001b[0m\u001b[0;34m)\u001b[0m\u001b[0;34m)\u001b[0m\u001b[0;34m:\u001b[0m\u001b[0;34m\u001b[0m\u001b[0;34m\u001b[0m\u001b[0m\n\u001b[1;32m     33\u001b[0m             \u001b[0mos\u001b[0m\u001b[0;34m.\u001b[0m\u001b[0mmakedirs\u001b[0m\u001b[0;34m(\u001b[0m\u001b[0mos\u001b[0m\u001b[0;34m.\u001b[0m\u001b[0mpath\u001b[0m\u001b[0;34m.\u001b[0m\u001b[0mjoin\u001b[0m\u001b[0;34m(\u001b[0m\u001b[0mDATA_DIR\u001b[0m\u001b[0;34m,\u001b[0m\u001b[0mnation\u001b[0m\u001b[0;34m)\u001b[0m\u001b[0;34m)\u001b[0m\u001b[0;34m\u001b[0m\u001b[0;34m\u001b[0m\u001b[0m\n\u001b[0;32m---> 34\u001b[0;31m         \u001b[0mresponse_data\u001b[0m \u001b[0;34m=\u001b[0m \u001b[0mresponse\u001b[0m\u001b[0;34m.\u001b[0m\u001b[0mjson\u001b[0m\u001b[0;34m(\u001b[0m\u001b[0;34m)\u001b[0m\u001b[0;34m[\u001b[0m\u001b[0;34m\"data\"\u001b[0m\u001b[0;34m]\u001b[0m\u001b[0;34m[\u001b[0m\u001b[0;36m0\u001b[0m\u001b[0;34m]\u001b[0m\u001b[0;34m[\u001b[0m\u001b[0;34m\"ratios\"\u001b[0m\u001b[0;34m]\u001b[0m\u001b[0;34m\u001b[0m\u001b[0;34m\u001b[0m\u001b[0m\n\u001b[0m\u001b[1;32m     35\u001b[0m         \u001b[0mresponse_data_normalized\u001b[0m \u001b[0;34m=\u001b[0m \u001b[0;34m[\u001b[0m\u001b[0;34m]\u001b[0m\u001b[0;34m\u001b[0m\u001b[0;34m\u001b[0m\u001b[0m\n\u001b[1;32m     36\u001b[0m         \u001b[0;32mfor\u001b[0m \u001b[0md\u001b[0m \u001b[0;32min\u001b[0m \u001b[0mresponse_data\u001b[0m\u001b[0;34m:\u001b[0m\u001b[0;34m\u001b[0m\u001b[0;34m\u001b[0m\u001b[0m\n",
      "\u001b[0;32m~/scraping/myvenv/lib/python3.6/site-packages/requests/models.py\u001b[0m in \u001b[0;36mjson\u001b[0;34m(self, **kwargs)\u001b[0m\n\u001b[1;32m    895\u001b[0m                     \u001b[0;31m# used.\u001b[0m\u001b[0;34m\u001b[0m\u001b[0;34m\u001b[0m\u001b[0;34m\u001b[0m\u001b[0m\n\u001b[1;32m    896\u001b[0m                     \u001b[0;32mpass\u001b[0m\u001b[0;34m\u001b[0m\u001b[0;34m\u001b[0m\u001b[0m\n\u001b[0;32m--> 897\u001b[0;31m         \u001b[0;32mreturn\u001b[0m \u001b[0mcomplexjson\u001b[0m\u001b[0;34m.\u001b[0m\u001b[0mloads\u001b[0m\u001b[0;34m(\u001b[0m\u001b[0mself\u001b[0m\u001b[0;34m.\u001b[0m\u001b[0mtext\u001b[0m\u001b[0;34m,\u001b[0m \u001b[0;34m**\u001b[0m\u001b[0mkwargs\u001b[0m\u001b[0;34m)\u001b[0m\u001b[0;34m\u001b[0m\u001b[0;34m\u001b[0m\u001b[0m\n\u001b[0m\u001b[1;32m    898\u001b[0m \u001b[0;34m\u001b[0m\u001b[0m\n\u001b[1;32m    899\u001b[0m     \u001b[0;34m@\u001b[0m\u001b[0mproperty\u001b[0m\u001b[0;34m\u001b[0m\u001b[0;34m\u001b[0m\u001b[0m\n",
      "\u001b[0;32m~/scraping/myvenv/lib/python3.6/site-packages/requests/models.py\u001b[0m in \u001b[0;36mtext\u001b[0;34m(self)\u001b[0m\n\u001b[1;32m    859\u001b[0m         \u001b[0;31m# Decode unicode from given encoding.\u001b[0m\u001b[0;34m\u001b[0m\u001b[0;34m\u001b[0m\u001b[0;34m\u001b[0m\u001b[0m\n\u001b[1;32m    860\u001b[0m         \u001b[0;32mtry\u001b[0m\u001b[0;34m:\u001b[0m\u001b[0;34m\u001b[0m\u001b[0;34m\u001b[0m\u001b[0m\n\u001b[0;32m--> 861\u001b[0;31m             \u001b[0mcontent\u001b[0m \u001b[0;34m=\u001b[0m \u001b[0mstr\u001b[0m\u001b[0;34m(\u001b[0m\u001b[0mself\u001b[0m\u001b[0;34m.\u001b[0m\u001b[0mcontent\u001b[0m\u001b[0;34m,\u001b[0m \u001b[0mencoding\u001b[0m\u001b[0;34m,\u001b[0m \u001b[0merrors\u001b[0m\u001b[0;34m=\u001b[0m\u001b[0;34m'replace'\u001b[0m\u001b[0;34m)\u001b[0m\u001b[0;34m\u001b[0m\u001b[0;34m\u001b[0m\u001b[0m\n\u001b[0m\u001b[1;32m    862\u001b[0m         \u001b[0;32mexcept\u001b[0m \u001b[0;34m(\u001b[0m\u001b[0mLookupError\u001b[0m\u001b[0;34m,\u001b[0m \u001b[0mTypeError\u001b[0m\u001b[0;34m)\u001b[0m\u001b[0;34m:\u001b[0m\u001b[0;34m\u001b[0m\u001b[0;34m\u001b[0m\u001b[0m\n\u001b[1;32m    863\u001b[0m             \u001b[0;31m# A LookupError is raised if the encoding was not found which could\u001b[0m\u001b[0;34m\u001b[0m\u001b[0;34m\u001b[0m\u001b[0;34m\u001b[0m\u001b[0m\n",
      "\u001b[0;31mKeyboardInterrupt\u001b[0m: "
     ]
    }
   ],
   "source": [
    "scraping_buysell()"
   ]
  },
  {
   "cell_type": "code",
   "execution_count": 8,
   "metadata": {},
   "outputs": [],
   "source": [
    "url = \"https://navi.gaitame.com/v2/info/tools/position\"\n",
    "payloads = {\n",
    "    \"pairs\": \"usdjpy\",\n",
    "    \"interval\": \"hour\",\n",
    "}\n",
    "response = requests.get(\n",
    "            url,\n",
    "            params = payloads\n",
    "        )"
   ]
  },
  {
   "cell_type": "code",
   "execution_count": 9,
   "metadata": {},
   "outputs": [],
   "source": [
    "df = pd.DataFrame(response.json()[\"data\"][0][\"ratios\"])"
   ]
  },
  {
   "cell_type": "code",
   "execution_count": 10,
   "metadata": {},
   "outputs": [
    {
     "name": "stdout",
     "output_type": "stream",
     "text": [
      "     buy  date  sell\n",
      "0     55  2/13    45\n",
      "1     58  2/12    42\n",
      "2     54  2/11    46\n",
      "3     62  2/10    38\n",
      "4     62   2/9    38\n",
      "5     62   2/8    38\n",
      "6     62   2/7    38\n",
      "7     60   2/6    40\n",
      "8     60   2/5    40\n",
      "9     59   2/4    41\n",
      "10    62   2/3    38\n",
      "11    62   2/2    38\n",
      "12    62   2/1    38\n",
      "13    68  1/31    32\n",
      "14    67  1/30    33\n",
      "15    65  1/29    35\n",
      "16    66  1/28    34\n",
      "17    65  1/27    35\n",
      "18    65  1/26    35\n",
      "19    65  1/25    35\n",
      "20    64  1/24    36\n",
      "21    63  1/23    37\n",
      "22    65  1/22    35\n",
      "23    62  1/21    38\n",
      "24    62  1/20    38\n",
      "25    62  1/19    38\n",
      "26    62  1/18    38\n",
      "27    63  1/17    37\n",
      "28    62  1/16    38\n",
      "29    64  1/15    36\n",
      "..   ...   ...   ...\n",
      "150   55  9/16    45\n",
      "151   55  9/15    45\n",
      "152   55  9/14    45\n",
      "153   54  9/13    46\n",
      "154   58  9/12    42\n",
      "155   56  9/11    44\n",
      "156   61  9/10    39\n",
      "157   65   9/9    35\n",
      "158   65   9/8    35\n",
      "159   65   9/7    35\n",
      "160   65   9/6    35\n",
      "161   57   9/5    43\n",
      "162   60   9/4    40\n",
      "163   63   9/3    37\n",
      "164   65   9/2    35\n",
      "165   65   9/1    35\n",
      "166   65  8/31    35\n",
      "167   64  8/30    36\n",
      "168   57  8/29    43\n",
      "169   63  8/28    37\n",
      "170   64  8/27    36\n",
      "171   63  8/26    37\n",
      "172   63  8/25    37\n",
      "173   63  8/24    37\n",
      "174   62  8/23    38\n",
      "175   64  8/22    36\n",
      "176   65  8/21    35\n",
      "177   69  8/20    31\n",
      "178   69  8/19    31\n",
      "179   69  8/18    31\n",
      "\n",
      "[180 rows x 3 columns]\n"
     ]
    }
   ],
   "source": [
    "print(df)"
   ]
  },
  {
   "cell_type": "code",
   "execution_count": null,
   "metadata": {},
   "outputs": [],
   "source": []
  }
 ],
 "metadata": {
  "kernelspec": {
   "display_name": "Python 3",
   "language": "python",
   "name": "python3"
  },
  "language_info": {
   "codemirror_mode": {
    "name": "ipython",
    "version": 3
   },
   "file_extension": ".py",
   "mimetype": "text/x-python",
   "name": "python",
   "nbconvert_exporter": "python",
   "pygments_lexer": "ipython3",
   "version": "3.6.7"
  }
 },
 "nbformat": 4,
 "nbformat_minor": 2
}
