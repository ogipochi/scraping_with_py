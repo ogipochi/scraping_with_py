{
 "cells": [
  {
   "cell_type": "code",
   "execution_count": 1,
   "metadata": {},
   "outputs": [],
   "source": [
    "from datetime import datetime,timezone,timedelta"
   ]
  },
  {
   "cell_type": "code",
   "execution_count": 12,
   "metadata": {},
   "outputs": [],
   "source": [
    "JST = datetime.timezone(datetime.timedelta(hours=+9),'JST')"
   ]
  },
  {
   "cell_type": "code",
   "execution_count": 13,
   "metadata": {},
   "outputs": [],
   "source": [
    "base = datetime.datetime(1970,1,1,0,0,0,0,JST)\n",
    "now = datetime.datetime.now(JST)"
   ]
  },
  {
   "cell_type": "code",
   "execution_count": 14,
   "metadata": {},
   "outputs": [
    {
     "name": "stdout",
     "output_type": "stream",
     "text": [
      "1550194444095\n"
     ]
    }
   ],
   "source": [
    "int(((now - base)/datetime.timedelta(milliseconds=1)) -jst)"
   ]
  },
  {
   "cell_type": "code",
   "execution_count": 2,
   "metadata": {},
   "outputs": [],
   "source": [
    "def get_js_datetime_now(milliseconds=1,microseconds=0,adjust=True):\n",
    "    JST = timezone(timedelta(hours=+9),'JST')\n",
    "    base = datetime(1970,1,1,0,0,0,0,JST)\n",
    "    now = datetime.now(JST)\n",
    "    jst_delta = 60 * 60 * 9 *1000* (milliseconds) + 60 * 60*(microseconds)\n",
    "    if adjust:\n",
    "        jst_delta += 1000000   # ラグの部分の調整\n",
    "    delta = int(((now - base)/timedelta(milliseconds=milliseconds,microseconds=microseconds)))\n",
    "    delta = delta - jst_delta\n",
    "    return delta"
   ]
  },
  {
   "cell_type": "code",
   "execution_count": 3,
   "metadata": {
    "scrolled": true
   },
   "outputs": [
    {
     "data": {
      "text/plain": [
       "1550194795237"
      ]
     },
     "execution_count": 3,
     "metadata": {},
     "output_type": "execute_result"
    }
   ],
   "source": [
    "get_js_datetime_now()"
   ]
  },
  {
   "cell_type": "code",
   "execution_count": null,
   "metadata": {},
   "outputs": [],
   "source": [
    "000032436000\n",
    "1550194684850\n",
    "1550194936746"
   ]
  }
 ],
 "metadata": {
  "kernelspec": {
   "display_name": "Python 3",
   "language": "python",
   "name": "python3"
  },
  "language_info": {
   "codemirror_mode": {
    "name": "ipython",
    "version": 3
   },
   "file_extension": ".py",
   "mimetype": "text/x-python",
   "name": "python",
   "nbconvert_exporter": "python",
   "pygments_lexer": "ipython3",
   "version": "3.6.7"
  }
 },
 "nbformat": 4,
 "nbformat_minor": 2
}
